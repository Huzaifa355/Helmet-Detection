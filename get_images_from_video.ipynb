{
 "cells": [
  {
   "cell_type": "code",
   "execution_count": 1,
   "id": "f3d7cb0a",
   "metadata": {},
   "outputs": [],
   "source": [
    "import cv2    \n",
    "import time\n",
    "cpt = 0\n",
    "maxFrames = 50 # if you want 5 frames only.\n",
    "\n",
    "count=0\n",
    "cap=cv2.VideoCapture('D:\\langchain\\helmet safety\\yolov8helmetdetection-main\\he2.mp4') # 0 for webcam, 1 for external camera\n",
    "while cpt < maxFrames:\n",
    "    ret, frame = cap.read()\n",
    "#    count += 1\n",
    "#    if count % 3 != 0:\n",
    "#        continue\n",
    "    frame=cv2.resize(frame,(1080,500))\n",
    "    time.sleep(0.01)\n",
    "#    frame=cv2.flip(frame,1)\n",
    "    cv2.imshow(\"test window\", frame) # show image in window\n",
    "    cv2.imwrite(r\"D:\\langchain\\helmet safety\\yolov8helmetdetection-main\\images\\person_%d.jpg\" %cpt, frame)\n",
    "    cpt += 1\n",
    "    if cv2.waitKey(5)&0xFF==27:\n",
    "        break\n",
    "cap.release()   \n",
    "cv2.destroyAllWindows()\n"
   ]
  }
 ],
 "metadata": {
  "kernelspec": {
   "display_name": "Python 3",
   "language": "python",
   "name": "python3"
  },
  "language_info": {
   "codemirror_mode": {
    "name": "ipython",
    "version": 3
   },
   "file_extension": ".py",
   "mimetype": "text/x-python",
   "name": "python",
   "nbconvert_exporter": "python",
   "pygments_lexer": "ipython3",
   "version": "3.11.0"
  }
 },
 "nbformat": 4,
 "nbformat_minor": 5
}
